{
 "cells": [
  {
   "cell_type": "code",
   "execution_count": 6,
   "metadata": {},
   "outputs": [
    {
     "name": "stdout",
     "output_type": "stream",
     "text": [
      "url: aku\n",
      "tag: ['generate', 'link', 'sendiri', 'senja', '']\n"
     ]
    }
   ],
   "source": [
    "def shortlink(url, tag1):\n",
    "    keys=[\"generate\", \"link\", \"sendiri\", \"{}\".format(tag1), \"\"]\n",
    "    print(\"url:\", url)\n",
    "    print(\"tag:\", keys)\n",
    "\n",
    "\n",
    "\n",
    "\n",
    "\n",
    "link=\"aku\"\n",
    "\n",
    "shortlink(link, \"senja\")"
   ]
  },
  {
   "cell_type": "code",
   "execution_count": 11,
   "metadata": {},
   "outputs": [
    {
     "name": "stdout",
     "output_type": "stream",
     "text": [
      "\n",
      "\n",
      "🟧 AUTO POSTING : 2022-10-04 20:14:33.530599\n",
      "\n",
      "\n",
      "Account : My Fashion Collection✨ (id_myfashion)\n"
     ]
    }
   ],
   "source": [
    "import mysql.connector\n",
    "import tweepy as twitter\n",
    "from datetime import datetime\n",
    "import random\n",
    "import requests\n",
    "import urllib.request\n",
    "\n",
    "mydb = mysql.connector.connect(\n",
    "  host=\"localhost\",\n",
    "  user=\"root\",\n",
    "  password=\"\",\n",
    "  database=\"shopeeaff\"\n",
    ")\n",
    "\n",
    "def shortLinkShopee(link, idshopee, akun, sosialmedia):\n",
    "    mycursor = mydb.cursor()\n",
    "    mycursor.execute(\"SELECT id, appid, rahasia FROM account_shopeeaff WHERE id={}\".format(idshopee))\n",
    "    account_shopee = mycursor.fetchall()\n",
    "\n",
    "   \n",
    "\n",
    "    from shopee_affiliate import ShopeeAffiliate    \n",
    "    sa = ShopeeAffiliate(account_shopee[0][1], account_shopee[0][2])\n",
    "    res = sa.generateShortLink(link, akun, sosialmedia)\n",
    "    res = res.replace(\"shope\", \"shpe\")\n",
    "\n",
    "    return(res)\n",
    "\n",
    "\n",
    "def autoposting():\n",
    "    print(\"\\n\\n🟧 AUTO POSTING : {}\\n\".format(datetime.now()))\n",
    "\n",
    "    mycursor = mydb.cursor()\n",
    "\n",
    "    mycursor.execute(\"SELECT username, API_KEY, API_SECRET_KEY, BEARER_TOKEN, ACCESS_TOKEN, SECRET_ACCESS_TOKEN FROM account_eleved\")\n",
    "\n",
    "    accountResult = mycursor.fetchall()\n",
    "\n",
    "    mycursor.execute(\"SELECT product_name, product_price, product_rating, product_link, product_img FROM database_post\")\n",
    "\n",
    "    database_post = mycursor.fetchall()\n",
    "\n",
    "    shopeid =1\n",
    "\n",
    "    for x in range(len(accountResult)):\n",
    "        auth = twitter.OAuthHandler(accountResult[x][1], accountResult[x][2])\n",
    "        auth.set_access_token(accountResult[x][4], accountResult[x][5])\n",
    "        api = twitter.API(auth)\n",
    "\n",
    "        profile = api.update_profile()\n",
    "\n",
    "        print(\"\\nAccount : {}\".format(profile.name) + \" ({})\".format(profile.screen_name))\n",
    "\n",
    "        random_index = random.randrange(len(database_post))\n",
    "\n",
    "        # upload image\n",
    "        urllib.request.urlretrieve('{}'.format(database_post[random_index][4]), \"imagePost.png\")\n",
    "        \n",
    "        statusTweet = \"‼ FLASH SALE ‼\\n\\n{}\\n\\n⛔️ DISKON : {}\\n\\nCheckout Sekarang 👇\\n{}\".format(database_post[random_index][0], database_post[random_index][2], shortLinkShopee(database_post[random_index][3], shopeid, \"idmyfashion\", \"Twitter\" ))\n",
    "        # media = api.media_upload(\"imagePost.png\")\n",
    "        # api.update_status(status=statusTweet, media_ids=[media.media_id])\n",
    "\n",
    "        # Post Telegram\n",
    "        statusTelegram = \"‼ FLASH SALE ‼\\n\\n{}\\n\\n⛔️ DISKON : {}\\n\\nCheckout Sekarang 👇\\n{}\".format(database_post[random_index][0], database_post[random_index][2], shortLinkShopee(database_post[random_index][3], shopeid, \"racunshopee\", \"Telegram\" ))\n",
    "        message = 'https://api.telegram.org/bot5479078966:AAECnT7JEy4hNpjHGUzdZtSTsgOOjN22O_8/sendPhoto?chat_id=-1001658353827&photo={}&caption={}'.format(database_post[random_index][4], statusTelegram)\n",
    "        requests.post(message)\n",
    "\n",
    "autoposting()"
   ]
  }
 ],
 "metadata": {
  "kernelspec": {
   "display_name": "Python 3.9.12 ('me')",
   "language": "python",
   "name": "python3"
  },
  "language_info": {
   "codemirror_mode": {
    "name": "ipython",
    "version": 3
   },
   "file_extension": ".py",
   "mimetype": "text/x-python",
   "name": "python",
   "nbconvert_exporter": "python",
   "pygments_lexer": "ipython3",
   "version": "3.9.12"
  },
  "orig_nbformat": 4,
  "vscode": {
   "interpreter": {
    "hash": "468ae84480a0cf111ba2e1f9e142a5adb1c1e6e4327e8ed889fe7f588de4372f"
   }
  }
 },
 "nbformat": 4,
 "nbformat_minor": 2
}
