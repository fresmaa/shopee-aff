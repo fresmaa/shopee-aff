{
 "cells": [
  {
   "cell_type": "code",
   "execution_count": 1,
   "metadata": {},
   "outputs": [],
   "source": [
    "from requests_oauthlib import OAuth1Session\n",
    "import os\n",
    "import json\n",
    "\n",
    "# In your terminal please set your environment variables by running the following lines of code.\n",
    "# export 'CONSUMER_KEY'='<your_consumer_key>'\n",
    "# export 'CONSUMER_SECRET'='<your_consumer_secret>'\n",
    "\n",
    "consumer_key = \"l8QEIHkBbb7Zpviv7ggt4XNpi\"\n",
    "consumer_secret = \"eM4Id0y0DiTLT3TJNZ9MDxZOUlx1rt5njK012vdt7RTligP77N\"\n",
    "\n",
    "# Be sure to add replace the text of the with the text you wish to Tweet. You can also add parameters to post polls, quote Tweets, Tweet with reply settings, and Tweet to Super Followers in addition to other features.\n",
    "\n",
    "# Get request token\n",
    "request_token_url = \"https://api.twitter.com/oauth/request_token?oauth_callback=oob&x_auth_access_type=write\"\n",
    "oauth = OAuth1Session(consumer_key, client_secret=consumer_secret)\n",
    "\n",
    "try:\n",
    "    fetch_response = oauth.fetch_request_token(request_token_url)\n",
    "except ValueError:\n",
    "    print(\n",
    "        \"There may have been an issue with the consumer_key or consumer_secret you entered.\"\n",
    "    )\n",
    "\n",
    "resource_owner_key = fetch_response.get(\"oauth_token\")\n",
    "resource_owner_secret = fetch_response.get(\"oauth_token_secret\")\n",
    "print(\"Got OAuth token: %s\" % resource_owner_key)\n",
    "\n",
    "# Get authorization\n",
    "base_authorization_url = \"https://api.twitter.com/oauth/authorize\"\n",
    "authorization_url = oauth.authorization_url(base_authorization_url)\n",
    "print(\"Please go here and authorize: %s\" % authorization_url)\n",
    "verifier = input(\"Paste the PIN here: \")\n",
    "\n",
    "# Get the access token\n",
    "access_token_url = \"https://api.twitter.com/oauth/access_token\"\n",
    "oauth = OAuth1Session(\n",
    "    consumer_key,\n",
    "    client_secret=consumer_secret,\n",
    "    resource_owner_key=resource_owner_key,\n",
    "    resource_owner_secret=resource_owner_secret,\n",
    "    verifier=verifier,\n",
    ")\n",
    "oauth_tokens = oauth.fetch_access_token(access_token_url)\n",
    "\n",
    "access_token = oauth_tokens[\"oauth_token\"]\n",
    "access_token_secret = oauth_tokens[\"oauth_token_secret\"]\n",
    "\n",
    "# Make the request\n",
    "oauth = OAuth1Session(\n",
    "    consumer_key,\n",
    "    client_secret=consumer_secret,\n",
    "    resource_owner_key=access_token,\n",
    "    resource_owner_secret=access_token_secret,\n",
    ")\n",
    "\n",
    "print(consumer_key)\n",
    "print(consumer_secret)\n",
    "print(access_token)\n",
    "print(access_token_secret)"
   ]
  }
 ],
 "metadata": {
  "kernelspec": {
   "display_name": "Python 3.9.12 ('me')",
   "language": "python",
   "name": "python3"
  },
  "language_info": {
   "codemirror_mode": {
    "name": "ipython",
    "version": 3
   },
   "file_extension": ".py",
   "mimetype": "text/x-python",
   "name": "python",
   "nbconvert_exporter": "python",
   "pygments_lexer": "ipython3",
   "version": "3.9.12"
  },
  "orig_nbformat": 4,
  "vscode": {
   "interpreter": {
    "hash": "468ae84480a0cf111ba2e1f9e142a5adb1c1e6e4327e8ed889fe7f588de4372f"
   }
  }
 },
 "nbformat": 4,
 "nbformat_minor": 2
}
