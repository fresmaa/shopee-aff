{
 "cells": [
  {
   "cell_type": "code",
   "execution_count": 1,
   "metadata": {},
   "outputs": [],
   "source": [
    "from distutils.log import info\n",
    "from itertools import count\n",
    "import tweepy as twitter\n",
    "import time\n",
    "from datetime import datetime\n",
    "import pandas as pd\n",
    "import random\n",
    "import urllib.request\n",
    "from PIL import Image\n",
    "import requests\n",
    "import schedule\n",
    "from py3pin.Pinterest import Pinterest\n",
    "import mysql.connector\n",
    "\n",
    "# Login Pinters\n",
    "pinterest = Pinterest(email='fresmaazz@gmail.com',\n",
    "                      password='Azzukhruf26',\n",
    "                      username='id_myfashion',\n",
    "                      cred_root='cred_root')\n",
    "\n",
    "\n",
    "# Database\n",
    "userID = \"spongebobnfess\"\n",
    "\n",
    "idDataBaseItem = '15JVk3QaMzRIzvXGq8KNgUO4i6RFyG12h0BXUKlrFf2Q'\n",
    "\n",
    "db = pd.read_csv(f\"https://docs.google.com/spreadsheets/d/{idDataBaseItem}/export?format=csv\")\n",
    "\n",
    "\n",
    "# Connect Database\n",
    "mydb = mysql.connector.connect(\n",
    "  host=\"localhost\",\n",
    "  user=\"root\",\n",
    "  password=\"\",\n",
    "  database=\"shopeeaff\"\n",
    ")"
   ]
  },
  {
   "cell_type": "code",
   "execution_count": 7,
   "metadata": {},
   "outputs": [
    {
     "name": "stdout",
     "output_type": "stream",
     "text": [
      "\n",
      "\n",
      "🟧 AUTO POSTING : 2022-10-23 14:59:28.172552\n",
      "\n",
      "Sukese\n",
      "https://api.telegram.org/bot5479078966:AAECnT7JEy4hNpjHGUzdZtSTsgOOjN22O_8/sendPhoto?chat_id=-1001809472846&photo=https://cf.shopee.co.id/file/e27e6fe0bafeb7feeafa8d8f5a81dbcc&caption=‼ FLASH SALE ‼\n",
      "\n",
      "Nadiraa Hijab Selena Non Garis (pashmina plisket) part 1\n",
      "\n",
      "⛔️ DISKON : 40%\n",
      "\n",
      "Checkout Sekarang 👇\n",
      "https://shpe.ee/9p3ittuhbG\n"
     ]
    }
   ],
   "source": [
    "def autoposting():\n",
    "    print(\"\\n\\n🟧 AUTO POSTING : {}\\n\".format(datetime.now()))\n",
    "\n",
    "    mycursor = mydb.cursor()\n",
    "\n",
    "    mycursor.execute(\"SELECT username, API_KEY, API_SECRET_KEY, BEARER_TOKEN, ACCESS_TOKEN, SECRET_ACCESS_TOKEN FROM account_eleved\")\n",
    "\n",
    "    accountResult = mycursor.fetchall()\n",
    "\n",
    "    mycursor.execute(\"SELECT product_name, product_price, product_rating, product_link, product_img FROM database_post\")\n",
    "\n",
    "    database_post = mycursor.fetchall()\n",
    "\n",
    "    shopeid =1\n",
    "\n",
    "    random_index = random.randrange(len(database_post))\n",
    "\n",
    "    urllib.request.urlretrieve('{}'.format(database_post[random_index][4]), \"imagePost.png\")\n",
    "\n",
    "    # Post Telegram\n",
    "    try:\n",
    "        statusTelegram = \"‼ FLASH SALE ‼\\n\\n{}\\n\\n⛔️ DISKON : {}\\n\\nCheckout Sekarang 👇\\n{}\".format(database_post[random_index][0], database_post[random_index][2], shortLinkShopee(database_post[random_index][3], shopeid, \"SahabatShopee\", \"Telegram\" ))\n",
    "        message = 'https://api.telegram.org/bot5479078966:AAECnT7JEy4hNpjHGUzdZtSTsgOOjN22O_8/sendPhoto?chat_id=-1001809472846&photo={}&caption={}'.format(database_post[random_index][4], statusTelegram)\n",
    "        requests.post(message)\n",
    "        print(\"Sukese\")\n",
    "        print(message)\n",
    "    except:\n",
    "        pass\n",
    "\n",
    "def shortLinkShopee(link, idshopee, akun, sosialmedia):\n",
    "    mycursor = mydb.cursor()\n",
    "    mycursor.execute(\"SELECT id, appid, rahasia FROM account_shopeeaff WHERE id={}\".format(idshopee))\n",
    "    account_shopee = mycursor.fetchall()\n",
    "\n",
    "    from shopee_affiliate import ShopeeAffiliate    \n",
    "    sa = ShopeeAffiliate(account_shopee[0][1], account_shopee[0][2])\n",
    "    res = sa.generateShortLink(link, akun, sosialmedia)\n",
    "    res = res.replace(\"shope\", \"shpe\")\n",
    "    return(res)\n",
    "\n",
    "autoposting()"
   ]
  },
  {
   "cell_type": "code",
   "execution_count": null,
   "metadata": {},
   "outputs": [],
   "source": []
  }
 ],
 "metadata": {
  "kernelspec": {
   "display_name": "Python 3.9.12 ('me')",
   "language": "python",
   "name": "python3"
  },
  "language_info": {
   "codemirror_mode": {
    "name": "ipython",
    "version": 3
   },
   "file_extension": ".py",
   "mimetype": "text/x-python",
   "name": "python",
   "nbconvert_exporter": "python",
   "pygments_lexer": "ipython3",
   "version": "3.9.12"
  },
  "orig_nbformat": 4,
  "vscode": {
   "interpreter": {
    "hash": "468ae84480a0cf111ba2e1f9e142a5adb1c1e6e4327e8ed889fe7f588de4372f"
   }
  }
 },
 "nbformat": 4,
 "nbformat_minor": 2
}
